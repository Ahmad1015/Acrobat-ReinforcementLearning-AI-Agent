{
  "nbformat": 4,
  "nbformat_minor": 0,
  "metadata": {
    "colab": {
      "provenance": [],
      "gpuType": "T4"
    },
    "kernelspec": {
      "name": "python3",
      "display_name": "Python 3"
    },
    "language_info": {
      "name": "python"
    },
    "accelerator": "GPU"
  },
  "cells": [
    {
      "cell_type": "markdown",
      "source": [
        "# **Installing Missing Libraries**"
      ],
      "metadata": {
        "id": "sGORxsUhuVq3"
      }
    },
    {
      "cell_type": "code",
      "execution_count": 1,
      "metadata": {
        "colab": {
          "base_uri": "https://localhost:8080/"
        },
        "id": "KZ2ExC-4ty7p",
        "outputId": "241ee52f-b334-40f0-dae9-0f040a829884"
      },
      "outputs": [
        {
          "output_type": "stream",
          "name": "stdout",
          "text": [
            "Collecting gymnasium\n",
            "  Downloading gymnasium-0.29.1-py3-none-any.whl (953 kB)\n",
            "\u001b[2K     \u001b[90m━━━━━━━━━━━━━━━━━━━━━━━━━━━━━━━━━━━━━━━━\u001b[0m \u001b[32m953.9/953.9 kB\u001b[0m \u001b[31m7.7 MB/s\u001b[0m eta \u001b[36m0:00:00\u001b[0m\n",
            "\u001b[?25hRequirement already satisfied: numpy>=1.21.0 in /usr/local/lib/python3.10/dist-packages (from gymnasium) (1.25.2)\n",
            "Requirement already satisfied: cloudpickle>=1.2.0 in /usr/local/lib/python3.10/dist-packages (from gymnasium) (2.2.1)\n",
            "Requirement already satisfied: typing-extensions>=4.3.0 in /usr/local/lib/python3.10/dist-packages (from gymnasium) (4.12.2)\n",
            "Collecting farama-notifications>=0.0.1 (from gymnasium)\n",
            "  Downloading Farama_Notifications-0.0.4-py3-none-any.whl (2.5 kB)\n",
            "Installing collected packages: farama-notifications, gymnasium\n",
            "Successfully installed farama-notifications-0.0.4 gymnasium-0.29.1\n",
            "Requirement already satisfied: gymnasium[accept-rom-license,atari] in /usr/local/lib/python3.10/dist-packages (0.29.1)\n",
            "Requirement already satisfied: numpy>=1.21.0 in /usr/local/lib/python3.10/dist-packages (from gymnasium[accept-rom-license,atari]) (1.25.2)\n",
            "Requirement already satisfied: cloudpickle>=1.2.0 in /usr/local/lib/python3.10/dist-packages (from gymnasium[accept-rom-license,atari]) (2.2.1)\n",
            "Requirement already satisfied: typing-extensions>=4.3.0 in /usr/local/lib/python3.10/dist-packages (from gymnasium[accept-rom-license,atari]) (4.12.2)\n",
            "Requirement already satisfied: farama-notifications>=0.0.1 in /usr/local/lib/python3.10/dist-packages (from gymnasium[accept-rom-license,atari]) (0.0.4)\n",
            "Collecting autorom[accept-rom-license]~=0.4.2 (from gymnasium[accept-rom-license,atari])\n",
            "  Downloading AutoROM-0.4.2-py3-none-any.whl (16 kB)\n",
            "Collecting shimmy[atari]<1.0,>=0.1.0 (from gymnasium[accept-rom-license,atari])\n",
            "  Downloading Shimmy-0.2.1-py3-none-any.whl (25 kB)\n",
            "Requirement already satisfied: click in /usr/local/lib/python3.10/dist-packages (from autorom[accept-rom-license]~=0.4.2->gymnasium[accept-rom-license,atari]) (8.1.7)\n",
            "Requirement already satisfied: requests in /usr/local/lib/python3.10/dist-packages (from autorom[accept-rom-license]~=0.4.2->gymnasium[accept-rom-license,atari]) (2.31.0)\n",
            "Requirement already satisfied: tqdm in /usr/local/lib/python3.10/dist-packages (from autorom[accept-rom-license]~=0.4.2->gymnasium[accept-rom-license,atari]) (4.66.4)\n",
            "Collecting AutoROM.accept-rom-license (from autorom[accept-rom-license]~=0.4.2->gymnasium[accept-rom-license,atari])\n",
            "  Downloading AutoROM.accept-rom-license-0.6.1.tar.gz (434 kB)\n",
            "\u001b[2K     \u001b[90m━━━━━━━━━━━━━━━━━━━━━━━━━━━━━━━━━━━━━━━━\u001b[0m \u001b[32m434.7/434.7 kB\u001b[0m \u001b[31m15.8 MB/s\u001b[0m eta \u001b[36m0:00:00\u001b[0m\n",
            "\u001b[?25h  Installing build dependencies ... \u001b[?25l\u001b[?25hdone\n",
            "  Getting requirements to build wheel ... \u001b[?25l\u001b[?25hdone\n",
            "  Preparing metadata (pyproject.toml) ... \u001b[?25l\u001b[?25hdone\n",
            "Collecting ale-py~=0.8.1 (from shimmy[atari]<1.0,>=0.1.0->gymnasium[accept-rom-license,atari])\n",
            "  Downloading ale_py-0.8.1-cp310-cp310-manylinux_2_17_x86_64.manylinux2014_x86_64.whl (1.7 MB)\n",
            "\u001b[2K     \u001b[90m━━━━━━━━━━━━━━━━━━━━━━━━━━━━━━━━━━━━━━━━\u001b[0m \u001b[32m1.7/1.7 MB\u001b[0m \u001b[31m56.5 MB/s\u001b[0m eta \u001b[36m0:00:00\u001b[0m\n",
            "\u001b[?25hRequirement already satisfied: importlib-resources in /usr/local/lib/python3.10/dist-packages (from ale-py~=0.8.1->shimmy[atari]<1.0,>=0.1.0->gymnasium[accept-rom-license,atari]) (6.4.0)\n",
            "Requirement already satisfied: charset-normalizer<4,>=2 in /usr/local/lib/python3.10/dist-packages (from requests->autorom[accept-rom-license]~=0.4.2->gymnasium[accept-rom-license,atari]) (3.3.2)\n",
            "Requirement already satisfied: idna<4,>=2.5 in /usr/local/lib/python3.10/dist-packages (from requests->autorom[accept-rom-license]~=0.4.2->gymnasium[accept-rom-license,atari]) (3.7)\n",
            "Requirement already satisfied: urllib3<3,>=1.21.1 in /usr/local/lib/python3.10/dist-packages (from requests->autorom[accept-rom-license]~=0.4.2->gymnasium[accept-rom-license,atari]) (2.0.7)\n",
            "Requirement already satisfied: certifi>=2017.4.17 in /usr/local/lib/python3.10/dist-packages (from requests->autorom[accept-rom-license]~=0.4.2->gymnasium[accept-rom-license,atari]) (2024.6.2)\n",
            "Building wheels for collected packages: AutoROM.accept-rom-license\n",
            "  Building wheel for AutoROM.accept-rom-license (pyproject.toml) ... \u001b[?25l\u001b[?25hdone\n",
            "  Created wheel for AutoROM.accept-rom-license: filename=AutoROM.accept_rom_license-0.6.1-py3-none-any.whl size=446661 sha256=3bf00d1c1d7a896cfc694a3448b130123fb47b8cbd8bafb431937e8a96ca6a1e\n",
            "  Stored in directory: /root/.cache/pip/wheels/6b/1b/ef/a43ff1a2f1736d5711faa1ba4c1f61be1131b8899e6a057811\n",
            "Successfully built AutoROM.accept-rom-license\n",
            "Installing collected packages: ale-py, shimmy, AutoROM.accept-rom-license, autorom\n",
            "Successfully installed AutoROM.accept-rom-license-0.6.1 ale-py-0.8.1 autorom-0.4.2 shimmy-0.2.1\n",
            "Reading package lists... Done\n",
            "Building dependency tree... Done\n",
            "Reading state information... Done\n",
            "The following additional packages will be installed:\n",
            "  swig4.0\n",
            "Suggested packages:\n",
            "  swig-doc swig-examples swig4.0-examples swig4.0-doc\n",
            "The following NEW packages will be installed:\n",
            "  swig swig4.0\n",
            "0 upgraded, 2 newly installed, 0 to remove and 45 not upgraded.\n",
            "Need to get 1,116 kB of archives.\n",
            "After this operation, 5,542 kB of additional disk space will be used.\n",
            "Get:1 http://archive.ubuntu.com/ubuntu jammy/universe amd64 swig4.0 amd64 4.0.2-1ubuntu1 [1,110 kB]\n",
            "Get:2 http://archive.ubuntu.com/ubuntu jammy/universe amd64 swig all 4.0.2-1ubuntu1 [5,632 B]\n",
            "Fetched 1,116 kB in 1s (1,520 kB/s)\n",
            "Selecting previously unselected package swig4.0.\n",
            "(Reading database ... 121925 files and directories currently installed.)\n",
            "Preparing to unpack .../swig4.0_4.0.2-1ubuntu1_amd64.deb ...\n",
            "Unpacking swig4.0 (4.0.2-1ubuntu1) ...\n",
            "Selecting previously unselected package swig.\n",
            "Preparing to unpack .../swig_4.0.2-1ubuntu1_all.deb ...\n",
            "Unpacking swig (4.0.2-1ubuntu1) ...\n",
            "Setting up swig4.0 (4.0.2-1ubuntu1) ...\n",
            "Setting up swig (4.0.2-1ubuntu1) ...\n",
            "Processing triggers for man-db (2.10.2-1) ...\n",
            "Requirement already satisfied: gymnasium[classic-control] in /usr/local/lib/python3.10/dist-packages (0.29.1)\n",
            "Requirement already satisfied: numpy>=1.21.0 in /usr/local/lib/python3.10/dist-packages (from gymnasium[classic-control]) (1.25.2)\n",
            "Requirement already satisfied: cloudpickle>=1.2.0 in /usr/local/lib/python3.10/dist-packages (from gymnasium[classic-control]) (2.2.1)\n",
            "Requirement already satisfied: typing-extensions>=4.3.0 in /usr/local/lib/python3.10/dist-packages (from gymnasium[classic-control]) (4.12.2)\n",
            "Requirement already satisfied: farama-notifications>=0.0.1 in /usr/local/lib/python3.10/dist-packages (from gymnasium[classic-control]) (0.0.4)\n",
            "Requirement already satisfied: pygame>=2.1.3 in /usr/local/lib/python3.10/dist-packages (from gymnasium[classic-control]) (2.6.0)\n"
          ]
        }
      ],
      "source": [
        "!pip install gymnasium\n",
        "!pip install \"gymnasium[atari,accept-rom-license]\"\n",
        "!apt-get install -y swig\n",
        "!pip install gymnasium[classic-control]"
      ]
    },
    {
      "cell_type": "markdown",
      "source": [
        "# Importing the libraries"
      ],
      "metadata": {
        "id": "4W994IoUudhx"
      }
    },
    {
      "cell_type": "code",
      "source": [
        "import os\n",
        "import random\n",
        "import numpy as np\n",
        "import torch\n",
        "import torch.nn as nn\n",
        "import torch.optim as optim\n",
        "import torch.nn.functional as F\n",
        "import torch.autograd as autograd\n",
        "from torch.autograd import Variable\n",
        "from collections import deque , namedtuple\n"
      ],
      "metadata": {
        "id": "y5l0ZK5LuQ2b"
      },
      "execution_count": 2,
      "outputs": []
    },
    {
      "cell_type": "markdown",
      "source": [
        "# Building A.I"
      ],
      "metadata": {
        "id": "w3LXOchKu5Ds"
      }
    },
    {
      "cell_type": "markdown",
      "source": [
        "# Creating the Architecture of the Nueral Network"
      ],
      "metadata": {
        "id": "beYaJqaAu-M1"
      }
    },
    {
      "cell_type": "code",
      "source": [
        "class Network(nn.Module):\n",
        "  def __init__(self,state_size,action_size,seed=42):\n",
        "    super(Network,self).__init__()\n",
        "    self.seed = torch.manual_seed(seed)\n",
        "    self.fc1 = nn.Linear(state_size,128)\n",
        "    self.fc2 = nn.Linear(128,128)\n",
        "    self.fc3 = nn.Linear(128,128)\n",
        "    self.fc4 = nn.Linear(128,action_size)\n",
        "\n",
        "  def forward(self,state):\n",
        "    x = self.fc1(state)\n",
        "    x = F.relu(x)\n",
        "    x = self.fc2(x)\n",
        "    x = F.relu(x)\n",
        "    X = self.fc3(x)\n",
        "    x = F.relu(x)\n",
        "\n",
        "    return self.fc4(x)\n"
      ],
      "metadata": {
        "id": "TlHvS8Ggu7fS"
      },
      "execution_count": 3,
      "outputs": []
    },
    {
      "cell_type": "markdown",
      "source": [
        "# Training The AI"
      ],
      "metadata": {
        "id": "IoO4kdiYv4ib"
      }
    },
    {
      "cell_type": "markdown",
      "source": [
        "# Setting up the environment"
      ],
      "metadata": {
        "id": "KNifjXrwv6zu"
      }
    },
    {
      "cell_type": "code",
      "source": [
        "import gymnasium as gym\n",
        "\n",
        "env = gym.make('Acrobot-v1')\n",
        "state_shape = env.observation_space.shape\n",
        "state_size = env.observation_space.shape[0]\n",
        "\n",
        "\n",
        "action_shape = env.action_space.shape\n",
        "number_actions = env.action_space.n\n"
      ],
      "metadata": {
        "id": "uuKdgGEDv53H"
      },
      "execution_count": 4,
      "outputs": []
    },
    {
      "cell_type": "markdown",
      "source": [
        "# Initializing the hyperparameters"
      ],
      "metadata": {
        "id": "1JZCalH3xE_1"
      }
    },
    {
      "cell_type": "code",
      "source": [
        "learning_rate = 7e-4\n",
        "minibatch_size = 200\n",
        "discount_factor = 0.999\n",
        "replay_buffer_size = int(3e5)\n",
        "interpolation_parameter = 1e-3"
      ],
      "metadata": {
        "id": "GG-a5mwpw_AS",
        "colab": {
          "base_uri": "https://localhost:8080/"
        },
        "outputId": "1239aa8c-24a4-47e4-b348-7cdfb3798fb5"
      },
      "execution_count": 5,
      "outputs": [
        {
          "output_type": "stream",
          "name": "stderr",
          "text": [
            "/usr/local/lib/python3.10/dist-packages/ipykernel/ipkernel.py:283: DeprecationWarning: `should_run_async` will not call `transform_cell` automatically in the future. Please pass the result to `transformed_cell` argument and any exception that happen during thetransform in `preprocessing_exc_tuple` in IPython 7.17 and above.\n",
            "  and should_run_async(code)\n"
          ]
        }
      ]
    },
    {
      "cell_type": "markdown",
      "source": [
        "# Implementing Experience Replay"
      ],
      "metadata": {
        "id": "hPtYfiidxTWi"
      }
    },
    {
      "cell_type": "code",
      "source": [
        "class ReplayMemory(object):\n",
        "  def __init__(self,capacity):\n",
        "    self.device = torch.device(\"cuda\" if torch.cuda.is_available() else \"cpu\")\n",
        "    self.capacity = capacity\n",
        "    self.memory = []\n",
        "\n",
        "  def push(self,event):\n",
        "    self.memory.append(event)\n",
        "    if len(self.memory)>self.capacity:\n",
        "      del self.memory[0]\n",
        "\n",
        "  def sample(self,batch_size):\n",
        "    experiences = random.sample(self.memory,k=batch_size)\n",
        "    states = torch.from_numpy(np.vstack([e[0] for e in experiences if e is not None])).float().to(self.device)\n",
        "    actions = torch.from_numpy(np.vstack([e[1] for e in experiences if e is not None])).long().to(self.device)\n",
        "    rewards = torch.from_numpy(np.vstack([e[2] for e in experiences if e is not None])).float().to(self.device)\n",
        "    next_states = torch.from_numpy(np.vstack([e[3] for e in experiences if e is not None])).float().to(self.device)\n",
        "    dones = torch.from_numpy(np.vstack([e[4] for e in experiences if e is not None]).astype(np.uint8)).float().to(self.device)\n",
        "    return states , next_states , actions , rewards , dones\n"
      ],
      "metadata": {
        "id": "L_NobuCNxV1G"
      },
      "execution_count": 6,
      "outputs": []
    },
    {
      "cell_type": "markdown",
      "source": [
        "# Implementing the DQN Class"
      ],
      "metadata": {
        "id": "KgG4j7qFzO6t"
      }
    },
    {
      "cell_type": "code",
      "source": [
        "class Agent():\n",
        "  def __init__(self,state_size,action_size):\n",
        "    self.device = torch.device(\"cuda\" if torch.cuda.is_available() else \"cpu\")\n",
        "    self.state_size = state_size\n",
        "    self.action_size = action_size\n",
        "    self.local_qnetwork = Network(state_size,action_size).to(self.device)\n",
        "    self.target_qnetwork = Network(state_size,action_size).to(self.device)\n",
        "    self.optimizer = optim.Adam(self.local_qnetwork.parameters(),lr=learning_rate)\n",
        "    self.memory = ReplayMemory(replay_buffer_size)\n",
        "    self.t_step = 0\n",
        "\n",
        "  def step(self,states,actions,rewards,next_states,dones):\n",
        "    self.memory.push((states,actions,rewards,next_states,dones))\n",
        "    self.t_step = (self.t_step +1) % 4\n",
        "    if self.t_step == 0:\n",
        "      if len(self.memory.memory) > minibatch_size:\n",
        "        experiences = self.memory.sample(100)\n",
        "        self.learn(experiences,discount_factor)\n",
        "\n",
        "  def act(self,state,epsilon=0.):\n",
        "    state = torch.from_numpy(state).float().unsqueeze(0).to(self.device)\n",
        "    self.local_qnetwork.eval()\n",
        "    with torch.no_grad():\n",
        "      action_values = self.local_qnetwork(state)\n",
        "    self.local_qnetwork.train()\n",
        "    if random.random()>epsilon:\n",
        "      return np.argmax(action_values.cpu().data.numpy())\n",
        "    else:\n",
        "      return random.choice(np.arange(self.action_size))\n",
        "\n",
        "  def learn(self,experiences,discount_factor):\n",
        "    states,next_states,actions,rewards,dones = experiences\n",
        "    next_q_targets = self.target_qnetwork(next_states).detach().max(1)[0].unsqueeze(1)\n",
        "    q_targets = rewards + discount_factor * next_q_targets * (1 - dones)\n",
        "    q_expected = self.local_qnetwork(states).gather(1, actions)\n",
        "    loss = F.mse_loss(q_expected, q_targets)\n",
        "    self.optimizer.zero_grad()\n",
        "    loss.backward()\n",
        "    self.optimizer.step()\n",
        "    self.soft_update(self.local_qnetwork, self.target_qnetwork, interpolation_parameter)\n",
        "\n",
        "  def soft_update(self, local_model, target_model, interpolation_parameter):\n",
        "    for target_param, local_param in zip(target_model.parameters(), local_model.parameters()):\n",
        "      target_param.data.copy_(interpolation_parameter * local_param.data + (1.0 - interpolation_parameter) * target_param.data)"
      ],
      "metadata": {
        "id": "Y2fsjqmEzRbA"
      },
      "execution_count": 7,
      "outputs": []
    },
    {
      "cell_type": "markdown",
      "source": [
        "# Initializing the DQN agent"
      ],
      "metadata": {
        "id": "YMwJoGKZ2Dx7"
      }
    },
    {
      "cell_type": "code",
      "source": [
        "agent = Agent(state_size,number_actions)"
      ],
      "metadata": {
        "id": "3vCov0mc2GMR"
      },
      "execution_count": 8,
      "outputs": []
    },
    {
      "cell_type": "markdown",
      "source": [
        "# Training the DQN agent"
      ],
      "metadata": {
        "id": "AxhStckC2Le_"
      }
    },
    {
      "cell_type": "code",
      "source": [
        "number_episodes = 2000\n",
        "maximum_number_timesteps_per_episode = 500\n",
        "epsilon_starting_value  = 1.0\n",
        "epsilon_ending_value  = 0.01\n",
        "epsilon_decay_value  = 0.995\n",
        "epsilon = epsilon_starting_value\n",
        "scores_on_100_episodes = deque(maxlen = 100)\n",
        "\n",
        "\n",
        "for episode in range(1, number_episodes + 1):\n",
        "  state, _ = env.reset()\n",
        "  score = 0\n",
        "  for t in range(maximum_number_timesteps_per_episode):\n",
        "    action = agent.act(state, epsilon)\n",
        "    next_state, reward, done, _, _ = env.step(action)\n",
        "\n",
        "    agent.step(state, action, reward, next_state, done)\n",
        "    state = next_state\n",
        "    score += reward\n",
        "    if done:\n",
        "      break\n",
        "  scores_on_100_episodes.append(score)\n",
        "  epsilon = max(epsilon_ending_value, epsilon_decay_value * epsilon)\n",
        "  print('\\rEpisode {}\\tAverage Score: {:}'.format(episode, np.mean(scores_on_100_episodes)), end = \"\")\n",
        "  if episode % 100 == 0:\n",
        "    print('\\rEpisode {}\\tAverage Score: {:}'.format(episode, np.mean(scores_on_100_episodes)))\n",
        "  if np.mean(scores_on_100_episodes) >= -100.0:\n",
        "    print('\\nEnvironment solved in {:d} episodes!\\tAverage Score: {:.2f}'.format(episode - 100, np.mean(scores_on_100_episodes)))\n",
        "    torch.save(agent.local_qnetwork.state_dict(), 'checkpoint.pth')\n",
        "    break"
      ],
      "metadata": {
        "colab": {
          "base_uri": "https://localhost:8080/"
        },
        "id": "M_995hwj2NO8",
        "outputId": "997f67f7-28f4-4eac-f4ab-f25cc98764c6"
      },
      "execution_count": 13,
      "outputs": [
        {
          "output_type": "stream",
          "name": "stdout",
          "text": [
            "Episode 100\tAverage Score: -321.76\n",
            "Episode 200\tAverage Score: -142.12\n",
            "Episode 300\tAverage Score: -107.35\n",
            "Episode 358\tAverage Score: -99.5\n",
            "Environment solved in 258 episodes!\tAverage Score: -99.50\n"
          ]
        }
      ]
    },
    {
      "cell_type": "markdown",
      "source": [
        "# Visualizing the Result"
      ],
      "metadata": {
        "id": "zEvPJ1Uv2Sap"
      }
    },
    {
      "cell_type": "code",
      "source": [
        "import glob\n",
        "import io\n",
        "import base64\n",
        "import imageio\n",
        "from IPython.display import HTML, display\n",
        "import os\n",
        "\n",
        "def show_video_of_model(agent, env_name, max_frames=1000):\n",
        "    env = gym.make(env_name, render_mode='rgb_array')\n",
        "    state, _ = env.reset()\n",
        "    done = False\n",
        "    frame_number = 0\n",
        "\n",
        "    while not done and frame_number < max_frames:\n",
        "        frame = env.render()\n",
        "        imageio.imwrite(f'frame_{frame_number}.png', frame)\n",
        "        frame_number += 1\n",
        "        action = agent.act(state)\n",
        "        state, reward, done, _, _ = env.step(action)\n",
        "\n",
        "    env.close()\n",
        "\n",
        "    with imageio.get_writer('Cart-Pole.mp4', fps=30) as video_writer:\n",
        "        for i in range(frame_number):\n",
        "            frame = imageio.imread(f'frame_{i}.png')\n",
        "            video_writer.append_data(frame)\n",
        "\n",
        "    # Clean up the individual frame files\n",
        "    for i in range(frame_number):\n",
        "        os.remove(f'frame_{i}.png')\n",
        "\n",
        "def show_video():\n",
        "    mp4list = glob.glob('*.mp4')\n",
        "    if len(mp4list) > 0:\n",
        "        mp4 = mp4list[0]\n",
        "        video = io.open(mp4, 'r+b').read()\n",
        "        encoded = base64.b64encode(video)\n",
        "        display(HTML(data='''<video alt=\"test\" autoplay\n",
        "                loop controls style=\"height: 400px;\">\n",
        "                <source src=\"data:video/mp4;base64,{0}\" type=\"video/mp4\" />\n",
        "             </video>'''.format(encoded.decode('ascii'))))\n",
        "    else:\n",
        "        print(\"Could not find video\")\n",
        "\n",
        "show_video_of_model(agent, 'Acrobot-v1')\n",
        "show_video()\n"
      ],
      "metadata": {
        "id": "q364X-CU2RL4",
        "colab": {
          "base_uri": "https://localhost:8080/",
          "height": 493
        },
        "outputId": "01473f94-a831-4b5a-efdc-ebbaf1a8801b"
      },
      "execution_count": 14,
      "outputs": [
        {
          "output_type": "stream",
          "name": "stderr",
          "text": [
            "<ipython-input-14-8e561deeae60>:25: DeprecationWarning: Starting with ImageIO v3 the behavior of this function will switch to that of iio.v3.imread. To keep the current behavior (and make this warning disappear) use `import imageio.v2 as imageio` or call `imageio.v2.imread` directly.\n",
            "  frame = imageio.imread(f'frame_{i}.png')\n",
            "WARNING:imageio_ffmpeg:IMAGEIO FFMPEG_WRITER WARNING: input image is not divisible by macro_block_size=16, resizing from (500, 500) to (512, 512) to ensure video compatibility with most codecs and players. To prevent resizing, make your input image divisible by the macro_block_size or set the macro_block_size to 1 (risking incompatibility).\n"
          ]
        },
        {
          "output_type": "display_data",
          "data": {
            "text/plain": [
              "<IPython.core.display.HTML object>"
            ],
            "text/html": [
              "<video alt=\"test\" autoplay\n",
              "                loop controls style=\"height: 400px;\">\n",
              "                <source src=\"data:video/mp4;base64,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\" type=\"video/mp4\" />\n",
              "             </video>"
            ]
          },
          "metadata": {}
        }
      ]
    }
  ]
}